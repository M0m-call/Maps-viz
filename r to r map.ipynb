{
 "cells": [
  {
   "cell_type": "code",
   "execution_count": 2,
   "id": "93d8a768",
   "metadata": {},
   "outputs": [],
   "source": [
    "import matplotlib.pyplot as plt\n",
    "import numpy as np"
   ]
  },
  {
   "cell_type": "code",
   "execution_count": null,
   "id": "f6d6ba72",
   "metadata": {},
   "outputs": [],
   "source": []
  },
  {
   "cell_type": "code",
   "execution_count": 13,
   "id": "87f2322b",
   "metadata": {},
   "outputs": [],
   "source": [
    "def f(x):\n",
    "    return 1-x**2"
   ]
  },
  {
   "cell_type": "code",
   "execution_count": null,
   "id": "3b2bead8",
   "metadata": {},
   "outputs": [],
   "source": []
  },
  {
   "cell_type": "code",
   "execution_count": 14,
   "id": "29ac6c80",
   "metadata": {},
   "outputs": [],
   "source": [
    "#point and radius\n",
    "a=3\n",
    "r=1"
   ]
  },
  {
   "cell_type": "code",
   "execution_count": 15,
   "id": "bfe422d6",
   "metadata": {},
   "outputs": [
    {
     "data": {
      "image/png": "[encoded data removed]",
      "text/plain": [
       "<Figure size 432x288 with 1 Axes>"
      ]
     },
     "metadata": {
      "needs_background": "light"
     },
     "output_type": "display_data"
    }
   ],
   "source": [
    "\n",
    "x = np.linspace(a-r,a+r,30)\n",
    "\n",
    "\n",
    "plt.scatter(x, np.zeros_like(x))\n",
    "\n",
    "plt.plot([a],[0], marker=\"o\", markersize=10, markerfacecolor=\"red\")\n",
    "\n",
    "\n",
    "plt.hlines(y=0,xmin=a-r-1,xmax=a+r+1)\n",
    "\n",
    "#plt.text(x=0,y= -.008, s='real-line')\n",
    "plt.text(x=a,y=-0.008,s=f'p={a}',fontsize=15)\n",
    "\n",
    "plt.yticks([])\n",
    "\n",
    "plt.show()\n",
    "\n",
    "\n"
   ]
  },
  {
   "cell_type": "code",
   "execution_count": null,
   "id": "db3c786a",
   "metadata": {},
   "outputs": [],
   "source": []
  },
  {
   "cell_type": "code",
   "execution_count": 16,
   "id": "8a5baffa",
   "metadata": {},
   "outputs": [],
   "source": [
    "y = f(x)\n",
    "xl,xr = np.min(y)-1,np.max(y)+1"
   ]
  },
  {
   "cell_type": "code",
   "execution_count": 17,
   "id": "84002b83",
   "metadata": {},
   "outputs": [
    {
     "data": {
      "image/png": "[encoded data removed]",
      "text/plain": [
       "<Figure size 432x288 with 1 Axes>"
      ]
     },
     "metadata": {
      "needs_background": "light"
     },
     "output_type": "display_data"
    }
   ],
   "source": [
    "plt.scatter(y,np.zeros_like(y))\n",
    "plt.yticks([])\n",
    "plt.plot([f(a)],[0],marker=\"o\", markersize=10, markerfacecolor=\"red\")\n",
    "#plt.text(x=0,y= -.008, s='real-line')\n",
    "plt.text(x=f(a),y=-0.009,s=f'f(p)={f(a)}',fontsize=15)\n",
    "plt.hlines(y=0,xmin=xl,xmax=xr)\n",
    "plt.show()"
   ]
  },
  {
   "cell_type": "code",
   "execution_count": null,
   "id": "adf3dc77",
   "metadata": {},
   "outputs": [],
   "source": []
  },
  {
   "cell_type": "code",
   "execution_count": null,
   "id": "c387467d",
   "metadata": {},
   "outputs": [],
   "source": []
  }
 ],
 "metadata": {
  "kernelspec": {
   "display_name": "Python 3 (ipykernel)",
   "language": "python",
   "name": "python3"
  },
  "language_info": {
   "codemirror_mode": {
    "name": "ipython",
    "version": 3
   },
   "file_extension": ".py",
   "mimetype": "text/x-python",
   "name": "python",
   "nbconvert_exporter": "python",
   "pygments_lexer": "ipython3",
   "version": "3.10.1"
  }
 },
 "nbformat": 4,
 "nbformat_minor": 5
}
